{
 "cells": [
  {
   "cell_type": "code",
   "execution_count": 31,
   "metadata": {},
   "outputs": [],
   "source": [
    "import coremltools"
   ]
  },
  {
   "cell_type": "markdown",
   "metadata": {},
   "source": [
    "## Step 1 - Load the specs of existing MLModel"
   ]
  },
  {
   "cell_type": "code",
   "execution_count": 32,
   "metadata": {},
   "outputs": [],
   "source": [
    "specs = coremltools.utils.load_spec('./MNIST.mlmodel')"
   ]
  },
  {
   "cell_type": "markdown",
   "metadata": {},
   "source": [
    "## Step 2 - Create a NeuralNetworkBuilder with the loaded specs"
   ]
  },
  {
   "cell_type": "code",
   "execution_count": 33,
   "metadata": {},
   "outputs": [],
   "source": [
    "builder = coremltools.models.neural_network.NeuralNetworkBuilder(spec=specs)"
   ]
  },
  {
   "cell_type": "markdown",
   "metadata": {},
   "source": [
    "## Step 3 - Apply the specs for training inputs and outputs"
   ]
  },
  {
   "cell_type": "code",
   "execution_count": 34,
   "metadata": {},
   "outputs": [],
   "source": [
    "nn_spec = builder.spec\n",
    "\n",
    "# by inspecting nn_spec, you'll see the properties of your neural network.\n",
    "\n",
    "# we want to set the specs for training inputs and outputs the same as \n",
    "# the specs of our original model for on-device training.\n",
    "nn_spec.description.trainingInput.extend([nn_spec.description.input[0]])\n",
    "nn_spec.description.trainingInput[0].shortDescription = 'Example of handwritten digit'\n",
    "\n",
    "nn_spec.description.trainingInput.extend([nn_spec.description.output[0]])\n",
    "nn_spec.description.trainingInput[1].shortDescription = 'Associated true label of example image'"
   ]
  },
  {
   "cell_type": "markdown",
   "metadata": {},
   "source": [
    "## Step 4 - Set the updatable layers"
   ]
  },
  {
   "cell_type": "markdown",
   "metadata": {},
   "source": [
    "You can view your updatable layers with `inspect_updatable_layers()`"
   ]
  },
  {
   "cell_type": "markdown",
   "metadata": {},
   "source": [
    "For this example, dense_1 and dense_2 are updatable"
   ]
  },
  {
   "cell_type": "code",
   "execution_count": 35,
   "metadata": {},
   "outputs": [],
   "source": [
    "builder.make_updatable(['dense_1', 'dense_2'])"
   ]
  },
  {
   "cell_type": "markdown",
   "metadata": {},
   "source": [
    "## Step 5 - Set the loss function, optimizer, and number of epochs"
   ]
  },
  {
   "cell_type": "markdown",
   "metadata": {},
   "source": [
    "For `MNIST` dataset, we can use the categorical_cross_entropy loss function"
   ]
  },
  {
   "cell_type": "code",
   "execution_count": 36,
   "metadata": {},
   "outputs": [],
   "source": [
    "# Loss function\n",
    "builder.set_categorical_cross_entropy_loss(name='loss_layer', input='prediction', target='trueDigit')"
   ]
  },
  {
   "cell_type": "code",
   "execution_count": 37,
   "metadata": {},
   "outputs": [],
   "source": [
    "# Optimizer\n",
    "from coremltools.models.neural_network import SgdParams as sgd\n",
    "builder.set_sgd_optimizer(sgd(lr=0.01, batch=32))"
   ]
  },
  {
   "cell_type": "code",
   "execution_count": 38,
   "metadata": {},
   "outputs": [],
   "source": [
    "# number of epochs\n",
    "builder.set_epochs(32)"
   ]
  },
  {
   "cell_type": "markdown",
   "metadata": {},
   "source": [
    "## Step 6 - Export as a new Core ML Model"
   ]
  },
  {
   "cell_type": "code",
   "execution_count": 39,
   "metadata": {},
   "outputs": [],
   "source": [
    "from coremltools.models import MLModel\n",
    "updatable_mlmodel = MLModel(nn_spec)\n",
    "updatable_mlmodel.save('./UpdatableMNIST.mlmodel')"
   ]
  },
  {
   "cell_type": "code",
   "execution_count": null,
   "metadata": {},
   "outputs": [],
   "source": []
  }
 ],
 "metadata": {
  "kernelspec": {
   "display_name": "Python 3",
   "language": "python",
   "name": "python3"
  },
  "language_info": {
   "codemirror_mode": {
    "name": "ipython",
    "version": 3
   },
   "file_extension": ".py",
   "mimetype": "text/x-python",
   "name": "python",
   "nbconvert_exporter": "python",
   "pygments_lexer": "ipython3",
   "version": "3.6.6"
  }
 },
 "nbformat": 4,
 "nbformat_minor": 2
}
